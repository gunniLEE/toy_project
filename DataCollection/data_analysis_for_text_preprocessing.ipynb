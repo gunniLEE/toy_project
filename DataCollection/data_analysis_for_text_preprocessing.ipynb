{
 "cells": [
  {
   "cell_type": "markdown",
   "id": "f094212b",
   "metadata": {},
   "source": [
    "# 1. 데이터 크롤링"
   ]
  },
  {
   "cell_type": "code",
   "execution_count": 10,
   "id": "65a67e4e",
   "metadata": {},
   "outputs": [
    {
     "name": "stderr",
     "output_type": "stream",
     "text": [
      "/root/.pyenv/versions/3.7.12/envs/demo/lib/python3.7/site-packages/pandas/compat/__init__.py:124: UserWarning: Could not import the lzma module. Your installed Python is incomplete. Attempting to use lzma compression will result in a RuntimeError.\n",
      "  warnings.warn(msg)\n"
     ]
    }
   ],
   "source": [
    "import pandas as pd\n",
    "from datetime import datetime\n",
    "\n",
    "from data_crawler import NaverNewsCrawler"
   ]
  },
  {
   "cell_type": "code",
   "execution_count": 7,
   "id": "e9b4e7a5",
   "metadata": {},
   "outputs": [],
   "source": [
    "cralwer = NaverNewsCrawler()\n",
    "start_date = '2022-07-15'\n",
    "end_date = datetime.now().strftime('%Y-%m-%d')\n",
    "cralwer.get_news_date_range(start_date, end_date)"
   ]
  },
  {
   "cell_type": "code",
   "execution_count": null,
   "id": "b14fbd7a",
   "metadata": {},
   "outputs": [],
   "source": [
    "datelist.remove(end_date) # 오늘자 데이터 삭제 (아직 데이터가 다 들어오지 않음)"
   ]
  },
  {
   "cell_type": "markdown",
   "id": "3cd070dd",
   "metadata": {},
   "source": [
    "# 2. 정제할 언론사 수 확인"
   ]
  },
  {
   "cell_type": "code",
   "execution_count": 11,
   "id": "b1cb2bb9",
   "metadata": {},
   "outputs": [],
   "source": [
    "import glob\n",
    "\n",
    "from config import *"
   ]
  },
  {
   "cell_type": "code",
   "execution_count": 12,
   "id": "181cd936",
   "metadata": {},
   "outputs": [
    {
     "data": {
      "text/plain": [
       "['/root/toyproject/DataCollection/crawling_data/2022-07-25.csv',\n",
       " '/root/toyproject/DataCollection/crawling_data/2022-07-26.csv',\n",
       " '/root/toyproject/DataCollection/crawling_data/2022-07-27.csv',\n",
       " '/root/toyproject/DataCollection/crawling_data/2022-07-28.csv',\n",
       " '/root/toyproject/DataCollection/crawling_data/2022-07-29.csv',\n",
       " '/root/toyproject/DataCollection/crawling_data/2022-07-30.csv',\n",
       " '/root/toyproject/DataCollection/crawling_data/2022-07-31.csv',\n",
       " '/root/toyproject/DataCollection/crawling_data/2022-08-01.csv']"
      ]
     },
     "execution_count": 12,
     "metadata": {},
     "output_type": "execute_result"
    }
   ],
   "source": [
    "glob.glob(CRAWLING_DATA_DIR + '*.csv')"
   ]
  },
  {
   "cell_type": "code",
   "execution_count": 13,
   "id": "2a0a17a4",
   "metadata": {},
   "outputs": [
    {
     "data": {
      "text/plain": [
       "(400, 12)"
      ]
     },
     "execution_count": 13,
     "metadata": {},
     "output_type": "execute_result"
    }
   ],
   "source": [
    "df = pd.DataFrame()\n",
    "for fpath in glob.glob(CRAWLING_DATA_DIR+'*.csv'):\n",
    "    new_df = pd.read_csv(fpath, header=0, encoding='utf-8')\n",
    "    date = fpath.split('/')[-1][:-4]\n",
    "    new_df['date'] = date\n",
    "    df = pd.concat([df, new_df])\n",
    "df = df.reset_index(drop=True)\n",
    "df.shape"
   ]
  },
  {
   "cell_type": "markdown",
   "id": "bf0fa795",
   "metadata": {},
   "source": [
    "# 3. 데이터 정제"
   ]
  },
  {
   "cell_type": "code",
   "execution_count": 16,
   "id": "44517dfe",
   "metadata": {},
   "outputs": [],
   "source": [
    "import re\n",
    "import random"
   ]
  },
  {
   "cell_type": "code",
   "execution_count": 17,
   "id": "5cec1454",
   "metadata": {},
   "outputs": [],
   "source": [
    "def text_refine(text):\n",
    "    \n",
    "    # 엑스포츠 뉴스\n",
    "    text = re.sub(\"\\(.+기자\\)\", \"\", text)\n",
    "    \n",
    "    # 인벤\n",
    "    text = re.sub(\"▲ 출처: 네이버.+기사제보 및 문의\", '', text)\n",
    "    text = re.sub(\"e스포츠인벤 Copyright.+기사제보 및 문의\", '', text)\n",
    "    \n",
    "    # 포모스\n",
    "    text = re.sub(\"포모스와 함께 즐기는 e스포츠,.+무단 +전재 +및 +재배포 +금지 +포모스\", \"\", text)\n",
    "    \n",
    "    # 스포츠 서울\n",
    "    text = re.sub(\"(사진)*제공.+ 기자\\]\", '', text)\n",
    "    \n",
    "    # 국민일보\n",
    "    text = re.sub(\"\\[네이버 메인에서 채널 구독하기\\].+재배포금지\", \"\", text)\n",
    "    text = re.sub(\"\\[국민일보 채널 구독하기\\].+재배포금지\", \"\", text)\n",
    "    text = re.sub('LCK 제공', \"\", text)\n",
    "    \n",
    "    # 공통\n",
    "    text = re.sub(\"^사진( 출처)*=[가-힣a-zA-Z0-9 ]+(\\,|\\.)\", \"\", text)\n",
    "    text = re.sub(\"\\xa0\", \" \", text)\n",
    "    text = re.sub('\\[[^\\]]+\\]', \" \", text)\n",
    "    photos = re.findall(\"사진=.+$\", text)\n",
    "    if photos:\n",
    "        if len(photos[0]) < 20:\n",
    "            text = re.sub(\"사진=.+$\", \"\", text)\n",
    "    text = re.sub(r\"((http|https)\\:\\/\\/)?[a-zA-Z0-9\\.\\/\\?\\:@\\-_=#]+\\.([a-zA-Z]){2,6}([a-zA-Z0-9\\.\\&\\/\\?\\:@\\-_=#])*\", \"\", text)\n",
    "\n",
    "    # \n",
    "    text = re.sub(\"[^ㄱ-ㅎ가-힣0-9a-zA-Z\\.\\?\\!\\[\\]\\-\\/\\:\\%\\(\\) ]+\", \"\", text)\n",
    "    text = re.sub(\"\\(\\)\", '', text)\n",
    "    text = re.sub(' {2,}', ' ', text).strip()\n",
    "    text = re.sub('[가-힣a-zA-Z\\,\\/\\ ]+ 기자$', '', text).strip()\n",
    "    text = text.strip(\"/\").strip()\n",
    "    \n",
    "    return text"
   ]
  },
  {
   "cell_type": "code",
   "execution_count": 25,
   "id": "cd08d447",
   "metadata": {
    "scrolled": false
   },
   "outputs": [
    {
     "name": "stdout",
     "output_type": "stream",
     "text": [
      "0\n",
      "한국경제\n",
      "--------------------------------------------------\n",
      "[이주현의 로그인 e스포츠] 는 게임을 넘어 스포츠, 그리고 문화콘텐츠로 성장하고 있는 e스포츠에 대한 이야기를 다룹니다. 인상 깊었던 경기들은 물론, 궁금했던 뒷이야기 나아가 산업으로서 e스포츠의 미래에 대해 분석합니다. 젠지 선수단(제공=LCK) 2022 LCK(리그오브레전드 챔피언스 코리아) 서머 스플릿 최강자가 오늘 가려진다. 정규리그 1위 자리를 놓고 치열하게 경쟁 중인 T1과 젠지e스포츠가 30일 맞붙는다. 두 팀은 현재까지 각각 12승 1패로 3,4위권 팀과 큰 격차를 벌리며 압도적인 실력을 뽐내고 있다. 양 팀이 남은 경기에서 모두 이긴다면 오늘 경기의 승자가 사실상 1위가 된다. 젠지는 명실상부한 강팀이다. 이번 시즌 T1과 담원 기아를 제외한 모든 팀을 상대로 2대0 완승을 거뒀다. 담원을 상대로도 1라운드 2대1로 승리했다. 현재까지 세트 기준 25승 3패로 강력함을 뽐내고 있다. 팀 지표 측면에서도 평균 경기 시간이 30분 19초로 가장 짧고 평균 킬은 14.4로 가장 많다. 말 그대로 폭발적인 경기력을 보여주고 있다. 이를 보여주듯 젠지 선수들 역시 각종 지표에서 최상위권에 올라 있다. T1 선수단(제공=LCK) 그런 젠지에 서머 시즌 유일한 패배를 안긴 팀이 바로 T1이다. 젠지 입장에서 T1은 트라우마에 가깝다. 2021년 LCK 서머 스플릿부터 현재까지 상대 전적이 7전 전패다. 이번 시즌뿐 아니라 올해 내내 중요한 순간에 T1을 넘지 못했다. 스프링 스플릿에서 젠지는 15승 3패로 일반적이라면 리그 1위를 다툴 만한 퍼포먼스를 보였다. 하지만 18승 0패로 전승을 달성한 T1에 밀려 2위에 그쳤다. 스프링 결승전에서도 3대1로 패하며 아쉬움을 삼켰다. 젠지가 오늘 T1전의 악몽에서 벗어나기 위해선 도란(최현준)의 역할이 중요하다. ‘T1의 상수’라고 불리는 제우스(최우제)를 막아내야 하기 때문이다. 젠지의 도란(최현준, 왼쪽)과 T1 제우스(최우제) 제우스는 현재 POG(Player of the Game) 포인트가 총 1000점으로 LCK 1위다. 그만큼 꾸준히 활약하고 있다. 평균 킬과 킬 관여율이 각각 3.2와 67.9%로 탑 라이너 중 가장 높다. 팀 내 데미지 비중도 28.3%로 에이스 역할을 톡톡히 하고 있다. 최근 광동 프릭스와의 경기에서 오른과 그라가스로 활약하며 탱커 챔피언까지 모두 잘 다루는 육각형 탑솔러의 정점을 보여줬다. 도란의 최근 폼도 제우스에 밀리지 않는다. 도란의 KDA는 4.78로 탑 선수들 중 가장 높다. 킬과 어시스트를 데스로 나눈 값으로 높을수록 적게 죽고 상대를 잡는데 기여했다는 의미다. 분당 데미지(DPM) 또한 585로 1위다. 최근 DRX와의 경기 2세트에서 갱플랭크로 4킬 0데스 8어시를 기록하며 대활약하기도 했다. 두 선수 모두 이번 시즌 나르와 갱플랭크를 선호하는 모습을 보였다. 따라서 두 카드는 금지될 가능성이 높다. 이를 의식한 듯 양 선수 모두 솔로 랭크에서 새로운 챔피언을 연습 중이다. 도란은 최근 사일러스와 카밀을 각각 9판과 5판 플레이했다. 나르의 대항마로 꼽히는 그웬도 11판 사용했다. 제우스 역시 카밀과 그웬을 각각 5판과 7판 꺼내들었다. 이에 더해 쉬바나를 5판, 레넥톤을 2판 플레이하며 조커픽으로 활용할 여지를 더했다. 서머 시즌 우승팀은 리그오브레전드 월드 챔피언십(롤드컵) 직행이 확정된다. T1과 젠지 양 팀 모두 플레이오프 2라운드 상대팀 선택권을 갖는 리그 1위를 노리는 이유다. 유독 T1에게 약한 모습을 보였던 젠지가 오늘 트라우마를 극복할지, 아니면 T1이 다시 한번 젠지에게 공포심을 더할지 그 결과에 따라 서머 시즌 우승팀이 가려질 것으로 보인다.\n",
      "--------------------------------------------------\n",
      "는 게임을 넘어 스포츠 그리고 문화콘텐츠로 성장하고 있는 e스포츠에 대한 이야기를 다룹니다. 인상 깊었던 경기들은 물론 궁금했던 뒷이야기 나아가 산업으로서 e스포츠의 미래에 대해 분석합니다. 젠지 선수단(제공LCK) 2022 LCK(리그오브레전드 챔피언스 코리아) 서머 스플릿 최강자가 오늘 가려진다. 정규리그 1위 자리를 놓고 치열하게 경쟁 중인 T1과 젠지e스포츠가 30일 맞붙는다. 두 팀은 현재까지 각각 12승 1패로 34위권 팀과 큰 격차를 벌리며 압도적인 실력을 뽐내고 있다. 양 팀이 남은 경기에서 모두 이긴다면 오늘 경기의 승자가 사실상 1위가 된다. 젠지는 명실상부한 강팀이다. 이번 시즌 T1과 담원 기아를 제외한 모든 팀을 상대로 2대0 완승을 거뒀다. 담원을 상대로도 1라운드 2대1로 승리했다. 현재까지 세트 기준 25승 3패로 강력함을 뽐내고 있다. 팀 지표 측면에서도 평균 경기 시간이 30분 19초로 가장 짧고 평균 킬은 14.4로 가장 많다. 말 그대로 폭발적인 경기력을 보여주고 있다. 이를 보여주듯 젠지 선수들 역시 각종 지표에서 최상위권에 올라 있다. T1 선수단(제공LCK) 그런 젠지에 서머 시즌 유일한 패배를 안긴 팀이 바로 T1이다. 젠지 입장에서 T1은 트라우마에 가깝다. 2021년 LCK 서머 스플릿부터 현재까지 상대 전적이 7전 전패다. 이번 시즌뿐 아니라 올해 내내 중요한 순간에 T1을 넘지 못했다. 스프링 스플릿에서 젠지는 15승 3패로 일반적이라면 리그 1위를 다툴 만한 퍼포먼스를 보였다. 하지만 18승 0패로 전승을 달성한 T1에 밀려 2위에 그쳤다. 스프링 결승전에서도 3대1로 패하며 아쉬움을 삼켰다. 젠지가 오늘 T1전의 악몽에서 벗어나기 위해선 도란(최현준)의 역할이 중요하다. T1의 상수라고 불리는 제우스(최우제)를 막아내야 하기 때문이다. 젠지의 도란(최현준 왼쪽)과 T1 제우스(최우제) 제우스는 현재 POG(Player of the Game) 포인트가 총 1000점으로 LCK 1위다. 그만큼 꾸준히 활약하고 있다. 평균 킬과 킬 관여율이 각각 3.2와 67.9%로 탑 라이너 중 가장 높다. 팀 내 데미지 비중도 28.3%로 에이스 역할을 톡톡히 하고 있다. 최근 광동 프릭스와의 경기에서 오른과 그라가스로 활약하며 탱커 챔피언까지 모두 잘 다루는 육각형 탑솔러의 정점을 보여줬다. 도란의 최근 폼도 제우스에 밀리지 않는다. 도란의 KDA는 4.78로 탑 선수들 중 가장 높다. 킬과 어시스트를 데스로 나눈 값으로 높을수록 적게 죽고 상대를 잡는데 기여했다는 의미다. 분당 데미지(DPM) 또한 585로 1위다. 최근 DRX와의 경기 2세트에서 갱플랭크로 4킬 0데스 8어시를 기록하며 대활약하기도 했다. 두 선수 모두 이번 시즌 나르와 갱플랭크를 선호하는 모습을 보였다. 따라서 두 카드는 금지될 가능성이 높다. 이를 의식한 듯 양 선수 모두 솔로 랭크에서 새로운 챔피언을 연습 중이다. 도란은 최근 사일러스와 카밀을 각각 9판과 5판 플레이했다. 나르의 대항마로 꼽히는 그웬도 11판 사용했다. 제우스 역시 카밀과 그웬을 각각 5판과 7판 꺼내들었다. 이에 더해 쉬바나를 5판 레넥톤을 2판 플레이하며 조커픽으로 활용할 여지를 더했다. 서머 시즌 우승팀은 리그오브레전드 월드 챔피언십(롤드컵) 직행이 확정된다. T1과 젠지 양 팀 모두 플레이오프 2라운드 상대팀 선택권을 갖는 리그 1위를 노리는 이유다. 유독 T1에게 약한 모습을 보였던 젠지가 오늘 트라우마를 극복할지 아니면 T1이 다시 한번 젠지에게 공포심을 더할지 그 결과에 따라 서머 시즌 우승팀이 가려질 것으로 보인다.\n"
     ]
    }
   ],
   "source": [
    "# new_df = df[df[\"officeName\"].apply(lambda x: ('포모스' not in x) & ('인벤' not in x) & \\\n",
    "#                                               ('엑스포츠' not in x) & ('서울' not in x) & \\\n",
    "#                                               ('국민일보' not in x))].reset_index(drop=True)\n",
    "new_df = df[df[\"officeName\"].apply(lambda x: ('한국경제' in x))].reset_index(drop=True)\n",
    "idx = random.randint(0, len(new_df['content'])-1)\n",
    "\n",
    "# idx = 40\n",
    "\n",
    "print(idx)\n",
    "print(new_df.iloc[idx]['officeName'])\n",
    "print('-'*50)\n",
    "text = new_df['content'][idx]\n",
    "print(text)\n",
    "print('-'*50)\n",
    "\n",
    "text = text_refine(text)\n",
    "\n",
    "print(text)"
   ]
  },
  {
   "cell_type": "code",
   "execution_count": 20,
   "id": "6b2c6fc5",
   "metadata": {},
   "outputs": [],
   "source": [
    "# refined_text 칼럼 생성\n",
    "df['refined_text'] = df['content'].apply(lambda x: text_refine(x))"
   ]
  },
  {
   "cell_type": "markdown",
   "id": "22f4c3f5",
   "metadata": {},
   "source": [
    "# 4. 데이터 토큰화\n",
    "1) mecab\n",
    "    \n",
    "    - 띄어쓰기 들어간 복합명사도 사용자 정의 사전에 추가 가능\n",
    "    \n",
    "2) <s>huggingface tokenizer</s>"
   ]
  },
  {
   "cell_type": "code",
   "execution_count": 23,
   "id": "2795eeef",
   "metadata": {
    "scrolled": true
   },
   "outputs": [
    {
     "name": "stdout",
     "output_type": "stream",
     "text": [
      "[('T1', 'NNG'), ('오너', 'NNG'), ('문현준', 'NNP'), ('이', 'JKS'), ('자신', 'NNG'), ('의', 'JKG'), ('시그', 'NNP'), ('니', 'VCP+EC'), ('처', 'NNG'), ('픽', 'NNG'), ('인', 'VCP+ETM'), ('리신', 'NNG'), ('에', 'JKB'), ('대해서', 'VV+EC+VCP'), ('고', 'EC'), ('평가', 'NNG'), ('했', 'XSV+EP'), ('다', 'EF'), ('.', 'SF'), ('T1', 'NNG'), ('은', 'JX'), ('1', 'SN'), ('일', 'NNBC'), ('서울', 'NNP'), ('종로구', 'NNP'), ('그랑', 'NNP'), ('서울', 'NNP'), ('LCK', 'SL'), ('아레나', 'NNG'), ('에서', 'JKB'), ('진행', 'NNG'), ('된', 'XSV+ETM'), ('2022', 'SN'), ('리그', 'NNG'), ('오브', 'NNP'), ('레전드', 'NNP'), ('챔피', 'NNP'), ('언스', 'NNP'), ('코리아', 'NNP'), ('서머', 'NNP'), ('1', 'SN'), ('라운드', 'NNG'), ('에서', 'JKB'), ('디알엑스', 'NNG'), ('를', 'JKO'), ('2', 'SN'), ('대', 'NNBC'), ('0', 'SN'), ('으로', 'JKB'), ('제압', 'NNG'), ('했', 'XSV+EP'), ('다', 'EF'), ('.', 'SF'), ('문현준', 'NNP'), ('은', 'JX'), ('1', 'SN'), ('세트', 'NNG'), ('에서', 'JKB'), ('는', 'JX'), ('리신', 'NNG'), ('2', 'SN'), ('세트', 'NNG'), ('에서', 'JKB'), ('는', 'JX'), ('비에고', 'NNG'), ('로', 'JKB'), ('맹활약', 'NNG'), ('하', 'XSV'), ('며', 'EC'), ('팀', 'NNG'), ('승리', 'NNG'), ('를', 'JKO'), ('도왔', 'VV+EP'), ('다', 'EF'), ('.', 'SF'), ('경기', 'NNG'), ('후', 'NNG'), ('인터뷰', 'NNG'), ('에서', 'JKB'), ('문현준', 'NNP'), ('은', 'JX'), ('개인', 'NNG'), ('적', 'XSN'), ('으로', 'JKB'), ('리신', 'NNG'), ('은', 'JX'), ('만능', 'NNG'), ('이', 'VCP'), ('라', 'EC'), ('생각', 'NNG'), ('한다', 'XSV+EF'), ('.', 'SF'), ('잘', 'MAG'), ('만', 'JX'), ('쓴다면', 'VV+EC'), ('오공', 'NNG'), ('비에고', 'NNG'), ('랑', 'JKB'), ('같', 'VA'), ('은', 'ETM'), ('티어', 'NNG'), ('라고', 'VCP+EC'), ('볼', 'VX+ETM'), ('수', 'NNB'), ('있', 'VV'), ('다고', 'EC'), ('설명', 'NNG'), ('했', 'XSV+EP'), ('다', 'EF'), ('.', 'SF'), ('또', 'MAG'), ('연승', 'NNG'), ('에', 'JKB'), ('대한', 'VV+ETM'), ('부담감', 'NNG'), ('을', 'JKO'), ('느낀', 'VV+ETM'), ('적', 'NNB'), ('은', 'JX'), ('없', 'VA'), ('었', 'EP'), ('지만', 'EC'), ('연승', 'NNG'), ('을', 'JKO'), ('더', 'MAG'), ('할', 'VV+ETM'), ('수', 'NNB'), ('있', 'VV'), ('었', 'EP'), ('는데', 'EC'), ('못했', 'VX+EP'), ('다는', 'ETM'), ('것', 'NNB'), ('에', 'JKB'), ('대한', 'VV+ETM'), ('아쉬움', 'NNG'), ('은', 'JX'), ('있', 'VA'), ('다며', 'EC'), ('연승', 'NNG'), ('이', 'JKS'), ('끊긴', 'VV+ETM'), ('것', 'NNB'), ('에', 'JKB'), ('대한', 'VV+ETM'), ('아쉬움', 'NNG'), ('을', 'JKO'), ('드러냈', 'VV+EP'), ('다', 'EF'), ('.', 'SF'), ('다음', 'NNG'), ('은', 'JX'), ('문현준', 'NNP'), ('과', 'JKB'), ('의', 'JKG'), ('일문일답', 'NNG'), ('이', 'VCP'), ('다', 'EF'), ('.', 'SF'), ('Q', 'SL'), ('승리', 'NNG'), ('소감', 'NNG'), ('은', 'JX'), ('.', 'SY'), ('A', 'SL'), ('비록', 'MAG'), ('지난', 'VV+ETM'), ('경기', 'NNG'), ('에서', 'JKB'), ('연승', 'NNG'), ('은', 'JX'), ('끊겼', 'VV+EP'), ('지만', 'EC'), ('순항', 'NNG'), ('중', 'NNB'), ('이', 'VCP'), ('던', 'ETM'), ('디알엑스', 'NNG'), ('를', 'JKO'), ('상대', 'NNG'), ('로', 'JKB'), ('2', 'SN'), ('대', 'NNBC'), ('0', 'SN'), ('완승', 'NNG'), ('을', 'JKO'), ('거둬서', 'VV+EC'), ('다행', 'NNG'), ('이', 'VCP'), ('기', 'ETN'), ('도', 'JX'), ('하', 'VV'), ('고', 'EC'), ('기분', 'NNG'), ('도', 'JX'), ('좋', 'VA'), ('다', 'EF'), ('.', 'SF'), ('Q', 'SL'), ('오늘', 'MAG'), ('단독', 'NNG'), ('POG', 'SL'), ('를', 'JKO'), ('받', 'VV'), ('았', 'EP'), ('는데', 'EC'), ('본인', 'NNG'), ('의', 'JKG'), ('경기력', 'NNG'), ('을', 'JKO'), ('평가', 'NNG'), ('한다면', 'XSV+EC'), ('.', 'SY'), ('A', 'SL'), ('7', 'SN'), ('점', 'NNBC'), ('정도', 'NNG'), ('줄', 'VV+ETM'), ('수', 'NNB'), ('있', 'VV'), ('을', 'ETM'), ('것', 'NNB'), ('같', 'VA'), ('다', 'EF'), ('.', 'SF'), ('오늘', 'MAG'), ('긴장', 'NNG'), ('을', 'JKO'), ('좀', 'MAG'), ('많이', 'MAG'), ('했', 'VV+EP'), ('는데', 'EC'), ('그래서', 'MAJ'), ('그런지', 'VA+EC'), ('잘', 'MAG'), ('컸', 'VA+EP'), ('음', 'ETN'), ('에', 'JKB'), ('도', 'JX'), ('스킬', 'NNG'), ('을', 'JKO'), ('못', 'MAG'), ('맞추', 'VV'), ('는', 'ETM'), ('경우', 'NNG'), ('가', 'JKS'), ('많', 'VA'), ('아서', 'EC'), ('아쉬움', 'NNG'), ('이', 'JKS'), ('남', 'VV'), ('는다', 'EF'), ('.', 'SF'), ('Q', 'SL'), ('긴장', 'NNG'), ('을', 'JKO'), ('했', 'VV+EP'), ('던', 'ETM'), ('이유', 'NNG'), ('는', 'JX'), ('.', 'SY'), ('A', 'SL'), ('특별', 'NNG'), ('한', 'XSA+ETM'), ('이유', 'NNG'), ('는', 'JX'), ('없', 'VA'), ('는데', 'EC'), ('그냥', 'MAG'), ('게임', 'NNG'), ('진행', 'NNG'), ('하', 'XSV'), ('면서', 'EC'), ('많이', 'MAG'), ('떨렸', 'VV+EP'), ('다', 'EF'), ('.', 'SF'), ('Q', 'SL'), ('지난', 'VV+ETM'), ('경기', 'NNG'), ('패배', 'NNG'), ('원인', 'NNG'), ('은', 'JX'), ('.', 'SY'), ('A', 'SL'), ('상대', 'NNG'), ('가', 'JKS'), ('준비', 'NNG'), ('한', 'XSV+ETM'), ('깜짝', 'MAG'), ('픽', 'NNG'), ('들', 'XSN'), ('을', 'JKO'), ('예상', 'NNG'), ('하', 'XSV'), ('지', 'EC'), ('못했', 'VX+EP'), ('다', 'EF'), ('.', 'SF'), ('더불', 'VV'), ('어', 'EC'), ('광동', 'NNG'), ('이', 'JKS'), ('저희', 'NP'), ('보다', 'JKB'), ('준비', 'NNG'), ('를', 'JKO'), ('잘', 'MAG'), ('해서', 'VV+EC'), ('왔', 'VX+EP'), ('고', 'EC'), ('게임', 'NNG'), ('내', 'NNB'), ('에서', 'JKB'), ('도', 'JX'), ('더', 'MAG'), ('잘', 'MAG'), ('했', 'VV+EP'), ('다', 'EF'), ('.', 'SF'), ('Q', 'SL'), ('제우스', 'NNP'), ('최우제', 'NNP'), ('와', 'JC'), ('호흡', 'NNG'), ('에', 'JKB'), ('대한', 'VV+ETM'), ('생각', 'NNG'), ('은', 'JX'), ('.', 'SY'), ('A', 'SL'), ('최우제', 'NNP'), ('와', 'JKB'), ('는', 'JX'), ('아마추어', 'NNG'), ('부터', 'JX'), ('생활', 'NNG'), ('을', 'JKO'), ('오래', 'MAG'), ('해', 'VV+EC'), ('와서', 'VV+EC'), ('지금', 'NNG'), ('의', 'JKG'), ('호흡', 'NNG'), ('이', 'JKS'), ('나올', 'VV+ETM'), ('수', 'NNB'), ('있', 'VV'), ('는', 'ETM'), ('거', 'NNB'), ('라고', 'VCP+EC'), ('생각', 'NNG'), ('한다', 'XSV+EF'), ('.', 'SF'), ('또', 'MAG'), ('최우제', 'NNP'), ('가', 'JKS'), ('많이', 'MAG'), ('잘', 'MAG'), ('하', 'VV'), ('고', 'EC'), ('있', 'VX'), ('어서', 'EC'), ('저', 'NP'), ('까지', 'JX'), ('잘', 'MAG'), ('해', 'VV+EC'), ('지', 'VX'), ('는', 'ETM'), ('것', 'NNB'), ('같', 'VA'), ('다', 'EF'), ('.', 'SF'), ('Q', 'SL'), ('연승', 'NNG'), ('끊기', 'VV'), ('고', 'EC'), ('어떤', 'MM'), ('마음', 'NNG'), ('이', 'VCP'), ('었', 'EP'), ('는지', 'EC'), ('A', 'SL'), ('연승', 'NNG'), ('에', 'JKB'), ('대한', 'VV+ETM'), ('부담감', 'NNG'), ('을', 'JKO'), ('느낀', 'VV+ETM'), ('적', 'NNB'), ('은', 'JX'), ('없', 'VA'), ('었', 'EP'), ('지만', 'EC'), ('연승', 'NNG'), ('을', 'JKO'), ('더', 'MAG'), ('할', 'VV+ETM'), ('수', 'NNB'), ('있', 'VV'), ('었', 'EP'), ('는데', 'EC'), ('못했', 'VX+EP'), ('다는', 'ETM'), ('것', 'NNB'), ('에', 'JKB'), ('대한', 'VV+ETM'), ('아쉬움', 'NNG'), ('은', 'JX'), ('있', 'VA'), ('다', 'EF'), ('.', 'SF'), ('Q', 'SL'), ('리신', 'NNG'), ('에', 'JKB'), ('대해', 'VV+EC'), ('평가', 'NNG'), ('한다면', 'XSV+EC'), ('.', 'SY'), ('A', 'SL'), ('공격력', 'NNG'), ('이', 'JKS'), ('다시', 'MAG'), ('버프', 'NNG'), ('를', 'JKO'), ('받', 'VV'), ('고', 'EC'), ('나', 'VX'), ('서', 'EC'), ('다른', 'MM'), ('AD', 'SL'), ('정글', 'NNG'), ('상대', 'NNG'), ('로', 'JKB'), ('밀리', 'VV'), ('지', 'EC'), ('않', 'VX'), ('는다', 'EF'), ('.', 'SF'), ('개인', 'NNG'), ('적', 'XSN'), ('으로', 'JKB'), ('리신', 'NNG'), ('은', 'JX'), ('만능', 'NNG'), ('이', 'VCP'), ('라', 'EC'), ('생각', 'NNG'), ('하', 'XSV'), ('고', 'EC'), ('잘', 'MAG'), ('만', 'JX'), ('쓴다면', 'VV+EC'), ('오공', 'NNG'), ('비에고', 'NNG'), ('랑', 'JKB'), ('같', 'VA'), ('은', 'ETM'), ('티어', 'NNG'), ('라고', 'VCP+EC'), ('볼', 'VX+ETM'), ('수', 'NNB'), ('있', 'VV'), ('다', 'EF'), ('.', 'SF'), ('Q', 'SL'), ('리신', 'NNG'), ('은', 'JX'), ('어떤', 'MM'), ('플레이', 'NNG'), ('에', 'JKB'), ('집중', 'NNG'), ('을', 'JKO'), ('해야', 'VV+EC'), ('한다고', 'VX+EC'), ('생각', 'NNG'), ('하', 'XSA'), ('나', 'EF'), ('.', 'SF'), ('A', 'SL'), ('상대', 'NNG'), ('딜러', 'NNG'), ('들', 'XSN'), ('이', 'JKS'), ('리신', 'NNG'), ('에게', 'JKB'), ('압박', 'NNG'), ('을', 'JKO'), ('느끼', 'VV'), ('게끔', 'EC'), ('불편', 'NNG'), ('할', 'XSV+ETM'), ('수', 'NNB'), ('있', 'VV'), ('는', 'ETM'), ('위치', 'NNG'), ('를', 'JKO'), ('잡', 'VV'), ('는', 'ETM'), ('것', 'NNB'), ('이', 'JKS'), ('중요', 'NNG'), ('하', 'XSV'), ('다', 'EF'), ('.', 'SF'), ('그리고', 'MAJ'), ('꼭', 'MAG'), ('궁', 'NNG'), ('으로', 'JKB'), ('배달', 'NNG'), ('을', 'JKO'), ('하', 'VV'), ('는', 'ETM'), ('것', 'NNB'), ('이', 'JKC'), ('아닐지라도', 'VCN+EC'), ('아군', 'NNG'), ('을', 'JKO'), ('지킬', 'VV+ETM'), ('수', 'NNB'), ('도', 'JX'), ('있', 'VA'), ('게', 'EC'), ('궁', 'NNG'), ('사용', 'NNG'), ('가능', 'NNG'), ('하', 'XSA'), ('다', 'EF'), ('.', 'SF'), ('Q', 'SL'), ('이제', 'MAG'), ('곧', 'MAG'), ('데뷔', 'NNG'), ('500', 'SN'), ('일', 'NNBC'), ('인데', 'VCP+EC'), ('가장', 'MAG'), ('기억', 'NNG'), ('에', 'JKB'), ('남', 'VV'), ('는', 'ETM'), ('순간', 'NNG'), ('.', 'SY'), ('A', 'SL'), ('지난', 'VV+ETM'), ('월드', 'NNG'), ('챔피언십', 'NNP'), ('(', 'SSO'), ('롤', 'NNG'), ('드', 'NNG'), ('컵', 'NNG'), (')', 'SSC'), ('4', 'SN'), ('강', 'NNG'), ('에서', 'JKB'), ('패했', 'VV+EP'), ('던', 'ETM'), ('순간', 'NNG'), ('이', 'JKS'), ('아쉬워서', 'VA+EC'), ('기억', 'NNG'), ('에', 'JKB'), ('남', 'VV'), ('는다', 'EF'), ('.', 'SF'), ('Q', 'SL'), ('마지막', 'NNG'), ('으로', 'JKB'), ('.', 'SY'), ('A', 'SL'), ('이제', 'MAG'), ('곧', 'MAG'), ('데뷔', 'NNG'), ('한', 'XSV+ETM'), ('지', 'NNB'), ('500', 'SN'), ('일', 'NNBC'), ('이', 'JKS'), ('되', 'VV'), ('는', 'ETM'), ('데', 'NNB'), ('믿기', 'VV'), ('지', 'EC'), ('않', 'VX'), ('고', 'EC'), ('기분', 'NNG'), ('이', 'JKS'), ('좋', 'VA'), ('고', 'EC'), ('팬', 'NNG'), ('분', 'XSN'), ('들', 'XSN'), ('이', 'JKS'), ('챙겨', 'VV+EC'), ('줘서', 'VX+EC'), ('감사', 'NNG'), ('하', 'XSV'), ('다', 'EF'), ('.', 'SF'), ('더', 'MAG'), ('많', 'VA'), ('은', 'ETM'), ('날', 'NNG'), ('을', 'JKO'), ('팬', 'VV+ETM'), ('분', 'NNB'), ('들', 'XSN'), ('과', 'JKB'), ('함께', 'MAG'), ('하', 'VV'), ('면', 'EC'), ('좋', 'VA'), ('겠', 'EP'), ('다', 'EF'), ('.', 'SF')]\n"
     ]
    }
   ],
   "source": [
    "# mecab\n",
    "from konlpy.tag import Mecab\n",
    "m = Mecab()\n",
    "pos_text = m.pos(df.iloc[3]['refined_text'])\n",
    "print(pos_text)"
   ]
  },
  {
   "cell_type": "code",
   "execution_count": 30,
   "id": "88a65651",
   "metadata": {},
   "outputs": [],
   "source": [
    "word_list = []\n",
    "tags = [\"NNG\", \"NNP\"]\n",
    "for word, tag in pos_text:\n",
    "    cond1= tag in tags\n",
    "    cond2 = (tag == 'SL') & (len(word) > 1)\n",
    "    if cond1 | cond2:\n",
    "        word_list.append(word)"
   ]
  },
  {
   "cell_type": "code",
   "execution_count": 31,
   "id": "4d888516",
   "metadata": {},
   "outputs": [
    {
     "name": "stdout",
     "output_type": "stream",
     "text": [
      "['T1', '오너', '문현준', '자신', '시그', '처', '픽', '리신', '평가', 'T1', '서울', '종로구', '그랑', '서울', 'LCK', '아레나', '진행', '리그', '오브', '레전드', '챔피', '언스', '코리아', '서머', '라운드', '디알엑스', '제압', '문현준', '세트', '리신', '세트', '비에고', '맹활약', '팀', '승리', '경기', '후', '인터뷰', '문현준', '개인', '리신', '만능', '생각', '오공', '비에고', '티어', '설명', '연승', '부담감', '연승', '아쉬움', '연승', '아쉬움', '다음', '문현준', '일문일답', '승리', '소감', '경기', '연승', '순항', '디알엑스', '상대', '완승', '다행', '기분', '단독', 'POG', '본인', '경기력', '평가', '정도', '긴장', '스킬', '경우', '아쉬움', '긴장', '이유', '특별', '이유', '게임', '진행', '경기', '패배', '원인', '상대', '준비', '픽', '예상', '광동', '준비', '게임', '제우스', '최우제', '호흡', '생각', '최우제', '아마추어', '생활', '지금', '호흡', '생각', '최우제', '연승', '마음', '연승', '부담감', '연승', '아쉬움', '리신', '평가', '공격력', '버프', 'AD', '정글', '상대', '개인', '리신', '만능', '생각', '오공', '비에고', '티어', '리신', '플레이', '집중', '생각', '상대', '딜러', '리신', '압박', '불편', '위치', '중요', '궁', '배달', '아군', '궁', '사용', '가능', '데뷔', '기억', '순간', '월드', '챔피언십', '롤', '드', '컵', '강', '순간', '기억', '마지막', '데뷔', '기분', '팬', '감사', '날']\n"
     ]
    }
   ],
   "source": [
    "print(word_list)"
   ]
  },
  {
   "cell_type": "code",
   "execution_count": null,
   "id": "d8a46299",
   "metadata": {},
   "outputs": [],
   "source": []
  },
  {
   "cell_type": "code",
   "execution_count": null,
   "id": "3a5a8e10",
   "metadata": {},
   "outputs": [],
   "source": []
  }
 ],
 "metadata": {
  "kernelspec": {
   "display_name": "Python 3 (ipykernel)",
   "language": "python",
   "name": "python3"
  },
  "language_info": {
   "codemirror_mode": {
    "name": "ipython",
    "version": 3
   },
   "file_extension": ".py",
   "mimetype": "text/x-python",
   "name": "python",
   "nbconvert_exporter": "python",
   "pygments_lexer": "ipython3",
   "version": "3.7.12"
  }
 },
 "nbformat": 4,
 "nbformat_minor": 5
}
