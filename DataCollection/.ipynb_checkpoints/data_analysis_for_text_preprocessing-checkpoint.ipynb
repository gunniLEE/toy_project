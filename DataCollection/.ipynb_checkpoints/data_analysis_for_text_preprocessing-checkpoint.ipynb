{
 "cells": [
  {
   "cell_type": "markdown",
   "id": "f94e8597",
   "metadata": {},
   "source": [
    "# 1. 데이터 크롤링"
   ]
  },
  {
   "cell_type": "code",
   "execution_count": 1,
   "id": "65a67e4e",
   "metadata": {},
   "outputs": [
    {
     "name": "stdout",
     "output_type": "stream",
     "text": [
      "['2017-12-31', '2018-06-30', '2018-12-31', '2019-06-30', '2019-12-31', '2020-06-30', '2020-12-31', '2021-06-30', '2021-12-31', '2022-06-30', '2022-07-10', '2022-07-11', '2022-07-12', '2022-07-13', '2022-07-14', '2022-07-15', '2022-07-16', '2022-07-17', '2022-07-18', '2022-07-19']\n"
     ]
    },
    {
     "name": "stderr",
     "output_type": "stream",
     "text": [
      "/root/.pyenv/versions/3.7.12/envs/demo/lib/python3.7/site-packages/pandas/compat/__init__.py:124: UserWarning: Could not import the lzma module. Your installed Python is incomplete. Attempting to use lzma compression will result in a RuntimeError.\n",
      "  warnings.warn(msg)\n"
     ]
    }
   ],
   "source": [
    "import pandas as pd\n",
    "from datetime import datetime\n",
    "\n",
    "today = datetime.now()\n",
    "datelist = [date.strftime(\"%Y-%m-%d\") for date in pd.date_range(end=today, periods=10, freq=\"6M\").tolist()]\n",
    "datelist += [date.strftime(\"%Y-%m-%d\") for date in pd.date_range(end=today, periods=10).tolist()]\n",
    "print(datelist)"
   ]
  },
  {
   "cell_type": "code",
   "execution_count": 3,
   "id": "e9b4e7a5",
   "metadata": {},
   "outputs": [
    {
     "name": "stdout",
     "output_type": "stream",
     "text": [
      ">>> Done create 2017-12-31 data\n",
      ">>> Done create 2018-06-30 data\n",
      ">>> Done create 2018-12-31 data\n",
      ">>> Done create 2019-06-30 data\n",
      ">>> Done create 2019-12-31 data\n",
      ">>> Done create 2020-06-30 data\n",
      ">>> Done create 2020-12-31 data\n",
      ">>> Done create 2021-06-30 data\n",
      ">>> Done create 2021-12-31 data\n",
      ">>> Done create 2022-06-30 data\n",
      ">>> Done create 2022-07-10 data\n",
      ">>> Done create 2022-07-11 data\n",
      ">>> Done create 2022-07-12 data\n",
      ">>> Done create 2022-07-13 data\n",
      ">>> Done create 2022-07-14 data\n",
      ">>> Done create 2022-07-15 data\n",
      ">>> Done create 2022-07-16 data\n",
      ">>> Done create 2022-07-17 data\n",
      ">>> Done create 2022-07-18 data\n",
      ">>> Done create 2022-07-19 data\n"
     ]
    }
   ],
   "source": [
    "from data_crawler import NaverNewsCrawler\n",
    "\n",
    "crawler = NaverNewsCrawler()\n",
    "for date in datelist:\n",
    "    data = crawler.get_news_data(date)\n",
    "    datapath = f\"/root/toyproject/DataCollection/crawling_data/{date}.csv\"\n",
    "    cralwer.create_news_data(datapath, data)\n",
    "    print(f'>>> Done create {date} data')"
   ]
  },
  {
   "cell_type": "code",
   "execution_count": null,
   "id": "7d4c1aee",
   "metadata": {},
   "outputs": [],
   "source": [
    "datelist.remove(\"2022-07-19\") # 오늘자 데이터 삭제 (아직 데이터가 다 들어오지 않음)"
   ]
  },
  {
   "cell_type": "markdown",
   "id": "cd52ff79",
   "metadata": {},
   "source": [
    "# 2. 정제할 언론사 수 확인"
   ]
  },
  {
   "cell_type": "code",
   "execution_count": 7,
   "id": "a22e5a7f",
   "metadata": {},
   "outputs": [],
   "source": [
    "import glob"
   ]
  },
  {
   "cell_type": "code",
   "execution_count": 57,
   "id": "047afcdb",
   "metadata": {},
   "outputs": [],
   "source": [
    "data_dir = \"/root/toyproject/DataCollection/crawling_data/\"\n",
    "df = pd.DataFrame()\n",
    "for fpath in glob.glob(data_dir+'*.csv'):\n",
    "    new_df = pd.read_csv(fpath, header=0, encoding='utf-8')\n",
    "    date = fpath.split('/')[-1][:-4]\n",
    "    new_df['date'] = date\n",
    "    df = pd.concat([df, new_df])\n",
    "df = df.reset_index(drop=True)"
   ]
  },
  {
   "cell_type": "code",
   "execution_count": 58,
   "id": "0ac5722c",
   "metadata": {
    "scrolled": true
   },
   "outputs": [
    {
     "data": {
      "text/plain": [
       "데일리e스포츠    227\n",
       "포모스        196\n",
       "인벤         106\n",
       "엑스포츠뉴스     103\n",
       "OSEN        63\n",
       "국민일보        43\n",
       "MHN스포츠      10\n",
       "스포츠서울        8\n",
       "더팩트          3\n",
       "아이뉴스24       3\n",
       "디스이즈게임       2\n",
       "MK스포츠        1\n",
       "일간스포츠        1\n",
       "게임메카         1\n",
       "스포츠조선        1\n",
       "스포티비뉴스       1\n",
       "세계일보         1\n",
       "스포츠경향        1\n",
       "한국경제         1\n",
       "Name: officeName, dtype: int64"
      ]
     },
     "execution_count": 58,
     "metadata": {},
     "output_type": "execute_result"
    }
   ],
   "source": [
    "df['officeName'].value_counts() # 19가지"
   ]
  },
  {
   "cell_type": "markdown",
   "id": "53d3ff98",
   "metadata": {},
   "source": [
    "# 3. 데이터 정제"
   ]
  },
  {
   "cell_type": "code",
   "execution_count": 73,
   "id": "6ae19d1f",
   "metadata": {},
   "outputs": [],
   "source": [
    "import re\n",
    "import random"
   ]
  },
  {
   "cell_type": "code",
   "execution_count": 364,
   "id": "dac9fc4d",
   "metadata": {},
   "outputs": [],
   "source": [
    "def text_refine(text):\n",
    "    \n",
    "    # 엑스포츠 뉴스\n",
    "    text = re.sub(\"\\(.+기자\\)\", \"\", text)\n",
    "    \n",
    "    # 인벤\n",
    "    text = re.sub(\"▲ 출처: 네이버.+기사제보 및 문의\", '', text)\n",
    "    text = re.sub(\"e스포츠인벤 Copyright.+기사제보 및 문의\", '', text)\n",
    "    \n",
    "    # 포모스\n",
    "    text = re.sub(\"포모스와 함께 즐기는 e스포츠,.+무단 +전재 +및 +재배포 +금지 +포모스\", \"\", text)\n",
    "    \n",
    "    # 스포츠 서울\n",
    "    text = re.sub(\"(사진)*제공.+ 기자\\]\", '', text)\n",
    "    \n",
    "    # 국민일보\n",
    "    text = re.sub(\"\\[네이버 메인에서 채널 구독하기\\].+재배포금지\", \"\", text)\n",
    "    text = re.sub(\"\\[국민일보 채널 구독하기\\].+재배포금지\", \"\", text)\n",
    "    text = re.sub('LCK 제공', \"\", text)\n",
    "    \n",
    "    # 공통\n",
    "    text = re.sub(\"^사진( 출처)*=[가-힣a-zA-Z0-9 ]+(\\,|\\.)\", \"\", text)\n",
    "    text = re.sub(\"\\xa0\", \" \", text)\n",
    "    text = re.sub('\\[[^\\]]+\\]', \" \", text)\n",
    "    photos = re.findall(\"사진=.+$\", text)\n",
    "    if photos:\n",
    "        if len(photos[0]) < 20:\n",
    "            text = re.sub(\"사진=.+$\", \"\", text)\n",
    "    text = re.sub(r\"((http|https)\\:\\/\\/)?[a-zA-Z0-9\\.\\/\\?\\:@\\-_=#]+\\.([a-zA-Z]){2,6}([a-zA-Z0-9\\.\\&\\/\\?\\:@\\-_=#])*\", \"\", text)\n",
    "\n",
    "    # \n",
    "    text = re.sub(\"[^ㄱ-ㅎ가-힣0-9a-zA-Z\\.\\?\\!\\[\\]\\-\\/\\:\\%\\(\\) ]+\", \"\", text)\n",
    "    text = re.sub(\"\\(\\)\", '', text)\n",
    "    text = re.sub(' {2,}', ' ', text).strip()\n",
    "    text = re.sub('[가-힣a-zA-Z\\,\\/\\ ]+ 기자$', '', text).strip()\n",
    "    text = text.strip(\"/\").strip()\n",
    "    \n",
    "    return text"
   ]
  },
  {
   "cell_type": "code",
   "execution_count": 475,
   "id": "a235f8af",
   "metadata": {
    "scrolled": false
   },
   "outputs": [
    {
     "name": "stdout",
     "output_type": "stream",
     "text": [
      "187\n",
      "데일리e스포츠\n",
      "--------------------------------------------------\n",
      "700점으로 POG 순위 공동 1위를 달리고 있는 kt 롤스터 '에이밍' 김하람.   1라운드를 마무리하며 반환점을 돈 2022 리그 오브 레전드 챔피언스 코리아(이하 LCK) 서머에서 원거리 딜러 선수들의 활약이 심상치 않다.  5주 차 일정까지 마무리한 현재 POG(Player of the Game) 순위를 보면 상위 다섯 명 중 세 명이 원거리 딜러 선수('에이밍' 김하람, '룰러' 박재혁, '프린스' 이채환)다. 이 셋은 최근 경기에서 압도적인 캐리력을 뽐내며 활약하고 있다.  이런 원거리 딜러의 활약에는 선수들의 개인 능력도 중요하게 작용했지만, 팀 적인 도움 역시 무시할 수 없었다. 그만큼 현재 LCK는 원거리 딜러 키우기에 집중하는 팀이 많아진 상황이다. 그러다 보니 최근의 경기 흐름을 들여다보면 초반부터 바텀에서 치열한 신경전과 사고가 발생하는 추세며 정글러들 역시 바텀에 집중하는 동선을 많이 짜고 있다.  이런 바텀 중심의 분위기는 밴픽 구도에서도 드러난다. 대부분의 팀이 제리, 칼리스타, 루시안 등 많은 원거리 딜러 챔피언을 밴 하거나 첫 번째 픽 페이즈에서 빠르게 바텀 조합을 완성하고는 한다.  이렇게 LCK에 찾아온 원거리 딜러 메타의 원인으로 몇몇 선수들은 '내구성 패치'를 꼽기도 했다. 일명 내구성 패치로 불리는 12.10 패치로 인해 챔피언의 기본 체력과 방어력, 마법 저항력이 올라갔고 이에 따라 후반에 강력한 화력을 뿜어내는 원거리 딜러의 활약이 중요해졌다는 것이 분석 요인이다.  POG 포인트 700점으로 공동 선두를 달리고 있는 kt의 김하람은 인터뷰에서 \"내구성 패치 이후 후반을 가는 게임이 많아지면서 오브젝트가 중요해졌고 이로 인해 모두 뭉쳐서 싸우는 5대5 전투가 많아졌다\"며 \"그런 상황에서 원거리 딜러가 얼마나 대미지를 잘 넣는지가 중요해졌고 그 결과 최근의 원거리 딜러 중심 메타의 흐름으로 가고 있는 것 같다\"고 분석했다. 담원 기아의 정글러 '캐니언' 김건부 역시 \"아무래도 내구성 패치로 인해 바텀 캐리력이 올라갔다고 생각한다\"고 생각을 밝히며 김하람과 비슷한 분석을 내놓았다. T1 '구마유시' 이민형. T1의 '구마유시' 이민형은 다른 의견을 내놓기도 했다. 그는 \"바텀이 게임을 지배하고 있는 것까지는 아닌 것 같고 다른 라인 역시 모두 중요하다\"는 생각을 밝혔다. 그러면서도 \"바텀에서 예민한 구도가 많이 발생하고 한쪽이 일방적으로 잘 크는 상황이 나오면서 캐리력 차이가 나오는 것 같다\"며 바텀에서 많은 상황이 발생하고 있음에는 동의했다.  이렇듯 어떤 이유에서건 바텀은 현재 LCK에서 가장 뜨거운 라인이다. 패치로 인한 큰 변화가 없다면 이런 흐름 역시 한동안 지속될 것으로 보인다. 과연 이런 원거리 딜러 전성시대가 언제까지 이어질지 관심이 쏠리고 있다.\n",
      "--------------------------------------------------\n",
      "700점으로 POG 순위 공동 1위를 달리고 있는 kt 롤스터 에이밍 김하람. 1라운드를 마무리하며 반환점을 돈 2022 리그 오브 레전드 챔피언스 코리아(이하 LCK) 서머에서 원거리 딜러 선수들의 활약이 심상치 않다. 5주 차 일정까지 마무리한 현재 POG(Player of the Game) 순위를 보면 상위 다섯 명 중 세 명이 원거리 딜러 선수(에이밍 김하람 룰러 박재혁 프린스 이채환)다. 이 셋은 최근 경기에서 압도적인 캐리력을 뽐내며 활약하고 있다. 이런 원거리 딜러의 활약에는 선수들의 개인 능력도 중요하게 작용했지만 팀 적인 도움 역시 무시할 수 없었다. 그만큼 현재 LCK는 원거리 딜러 키우기에 집중하는 팀이 많아진 상황이다. 그러다 보니 최근의 경기 흐름을 들여다보면 초반부터 바텀에서 치열한 신경전과 사고가 발생하는 추세며 정글러들 역시 바텀에 집중하는 동선을 많이 짜고 있다. 이런 바텀 중심의 분위기는 밴픽 구도에서도 드러난다. 대부분의 팀이 제리 칼리스타 루시안 등 많은 원거리 딜러 챔피언을 밴 하거나 첫 번째 픽 페이즈에서 빠르게 바텀 조합을 완성하고는 한다. 이렇게 LCK에 찾아온 원거리 딜러 메타의 원인으로 몇몇 선수들은 내구성 패치를 꼽기도 했다. 일명 내구성 패치로 불리는 12.10 패치로 인해 챔피언의 기본 체력과 방어력 마법 저항력이 올라갔고 이에 따라 후반에 강력한 화력을 뿜어내는 원거리 딜러의 활약이 중요해졌다는 것이 분석 요인이다. POG 포인트 700점으로 공동 선두를 달리고 있는 kt의 김하람은 인터뷰에서 내구성 패치 이후 후반을 가는 게임이 많아지면서 오브젝트가 중요해졌고 이로 인해 모두 뭉쳐서 싸우는 5대5 전투가 많아졌다며 그런 상황에서 원거리 딜러가 얼마나 대미지를 잘 넣는지가 중요해졌고 그 결과 최근의 원거리 딜러 중심 메타의 흐름으로 가고 있는 것 같다고 분석했다. 담원 기아의 정글러 캐니언 김건부 역시 아무래도 내구성 패치로 인해 바텀 캐리력이 올라갔다고 생각한다고 생각을 밝히며 김하람과 비슷한 분석을 내놓았다. T1 구마유시 이민형. T1의 구마유시 이민형은 다른 의견을 내놓기도 했다. 그는 바텀이 게임을 지배하고 있는 것까지는 아닌 것 같고 다른 라인 역시 모두 중요하다는 생각을 밝혔다. 그러면서도 바텀에서 예민한 구도가 많이 발생하고 한쪽이 일방적으로 잘 크는 상황이 나오면서 캐리력 차이가 나오는 것 같다며 바텀에서 많은 상황이 발생하고 있음에는 동의했다. 이렇듯 어떤 이유에서건 바텀은 현재 LCK에서 가장 뜨거운 라인이다. 패치로 인한 큰 변화가 없다면 이런 흐름 역시 한동안 지속될 것으로 보인다. 과연 이런 원거리 딜러 전성시대가 언제까지 이어질지 관심이 쏠리고 있다.\n"
     ]
    }
   ],
   "source": [
    "# new_df = df[df[\"officeName\"].apply(lambda x: ('포모스' not in x) & ('인벤' not in x) & \\\n",
    "#                                               ('엑스포츠' not in x) & ('서울' not in x) & \\\n",
    "#                                               ('국민일보' not in x))].reset_index(drop=True)\n",
    "new_df = df[df[\"officeName\"].apply(lambda x: ('데일리e' in x))].reset_index(drop=True)\n",
    "idx = random.randint(0, len(new_df['content'])-1)\n",
    "\n",
    "# idx = 40\n",
    "\n",
    "print(idx)\n",
    "print(new_df.iloc[idx]['officeName'])\n",
    "print('-'*50)\n",
    "text = new_df['content'][idx]\n",
    "print(text)\n",
    "print('-'*50)\n",
    "\n",
    "text = text_refine(text)\n",
    "\n",
    "print(text)"
   ]
  },
  {
   "cell_type": "code",
   "execution_count": null,
   "id": "1e49a36f",
   "metadata": {},
   "outputs": [],
   "source": [
    "# refined_text 칼럼 생성\n",
    "df['refined_text'] = df['content'].apply(lambda x: text_refine(x))"
   ]
  },
  {
   "cell_type": "markdown",
   "id": "a1676730",
   "metadata": {},
   "source": [
    "# 4. 데이터 토큰화\n",
    "1) mecab\n",
    "    \n",
    "    - 띄어쓰기 들어간 복합명사도 사용자 정의 사전에 추가 가능\n",
    "    \n",
    "2) huggingface tokenizer"
   ]
  },
  {
   "cell_type": "code",
   "execution_count": 477,
   "id": "c24b720e",
   "metadata": {
    "scrolled": true
   },
   "outputs": [],
   "source": []
  },
  {
   "cell_type": "code",
   "execution_count": null,
   "id": "0c4d103a",
   "metadata": {},
   "outputs": [],
   "source": []
  },
  {
   "cell_type": "code",
   "execution_count": null,
   "id": "313bbba6",
   "metadata": {},
   "outputs": [],
   "source": []
  },
  {
   "cell_type": "code",
   "execution_count": null,
   "id": "819d4d7a",
   "metadata": {},
   "outputs": [],
   "source": []
  },
  {
   "cell_type": "code",
   "execution_count": null,
   "id": "71e1ca08",
   "metadata": {},
   "outputs": [],
   "source": []
  }
 ],
 "metadata": {
  "kernelspec": {
   "display_name": "Python 3 (ipykernel)",
   "language": "python",
   "name": "python3"
  },
  "language_info": {
   "codemirror_mode": {
    "name": "ipython",
    "version": 3
   },
   "file_extension": ".py",
   "mimetype": "text/x-python",
   "name": "python",
   "nbconvert_exporter": "python",
   "pygments_lexer": "ipython3",
   "version": "3.7.12"
  }
 },
 "nbformat": 4,
 "nbformat_minor": 5
}
